{
 "cells": [
  {
   "cell_type": "code",
   "id": "initial_id",
   "metadata": {
    "collapsed": true,
    "ExecuteTime": {
     "end_time": "2024-05-05T23:17:03.477622Z",
     "start_time": "2024-05-05T23:16:55.987045Z"
    }
   },
   "source": [
    "import numpy as np\n",
    "from keras import layers, models\n",
    "from keras.utils import to_categorical\n",
    "from keras.datasets import mnist\n",
    "import matplotlib.pyplot as plt "
   ],
   "outputs": [],
   "execution_count": 1
  },
  {
   "metadata": {
    "ExecuteTime": {
     "end_time": "2024-05-05T23:17:03.779406Z",
     "start_time": "2024-05-05T23:17:03.480621Z"
    }
   },
   "cell_type": "code",
   "source": "(train_data,train_labels), (test_data,test_labels) = mnist.load_data()",
   "id": "46c89104be0952b5",
   "outputs": [],
   "execution_count": 2
  },
  {
   "metadata": {
    "ExecuteTime": {
     "end_time": "2024-05-05T23:32:37.383879Z",
     "start_time": "2024-05-05T23:32:37.372877Z"
    }
   },
   "cell_type": "code",
   "source": "train_data.shape",
   "id": "d4b061f6dd0e53e",
   "outputs": [
    {
     "data": {
      "text/plain": [
       "(60000, 28, 28)"
      ]
     },
     "execution_count": 6,
     "metadata": {},
     "output_type": "execute_result"
    }
   ],
   "execution_count": 6
  },
  {
   "metadata": {
    "ExecuteTime": {
     "end_time": "2024-05-05T23:35:25.558717Z",
     "start_time": "2024-05-05T23:35:25.513715Z"
    }
   },
   "cell_type": "code",
   "source": [
    "model=models.Sequential()\n",
    "model.add(layers.Dense(512,activation='relu',input_shape=(28*28,)))\n",
    "model.add(layers.Dense(10,activation='softmax'))"
   ],
   "id": "5f4e235f29cc44bb",
   "outputs": [],
   "execution_count": 10
  },
  {
   "metadata": {
    "ExecuteTime": {
     "end_time": "2024-05-05T23:36:35.947578Z",
     "start_time": "2024-05-05T23:36:35.923579Z"
    }
   },
   "cell_type": "code",
   "source": "model.compile(optimizer='rmsprop',loss='categorical_crossentropy',metrics='accuracy')",
   "id": "5dfadfdbb18897b5",
   "outputs": [],
   "execution_count": 13
  },
  {
   "metadata": {
    "ExecuteTime": {
     "end_time": "2024-05-05T23:36:36.597105Z",
     "start_time": "2024-05-05T23:36:36.576102Z"
    }
   },
   "cell_type": "code",
   "source": "model.summary()",
   "id": "aec30562cc0fa924",
   "outputs": [
    {
     "name": "stdout",
     "output_type": "stream",
     "text": [
      "Model: \"sequential_3\"\n",
      "_________________________________________________________________\n",
      " Layer (type)                Output Shape              Param #   \n",
      "=================================================================\n",
      " dense_2 (Dense)             (None, 512)               401920    \n",
      "                                                                 \n",
      " dense_3 (Dense)             (None, 10)                5130      \n",
      "                                                                 \n",
      "=================================================================\n",
      "Total params: 407050 (1.55 MB)\n",
      "Trainable params: 407050 (1.55 MB)\n",
      "Non-trainable params: 0 (0.00 Byte)\n",
      "_________________________________________________________________\n"
     ]
    }
   ],
   "execution_count": 14
  },
  {
   "metadata": {
    "ExecuteTime": {
     "end_time": "2024-05-05T23:39:00.370223Z",
     "start_time": "2024-05-05T23:39:00.127058Z"
    }
   },
   "cell_type": "code",
   "source": [
    "x_train=train_data.reshape((60000,28*28) )\n",
    "x_train=x_train.astype('float32')/255\n",
    "\n",
    "x_test=test_data.reshape((10000,28*28) )\n",
    "x_test=x_test.astype('float32')/255\n",
    "\n"
   ],
   "id": "ad740be3c86dc2cf",
   "outputs": [],
   "execution_count": 15
  },
  {
   "metadata": {
    "ExecuteTime": {
     "end_time": "2024-05-05T23:39:47.801503Z",
     "start_time": "2024-05-05T23:39:47.783505Z"
    }
   },
   "cell_type": "code",
   "source": [
    "y_train=to_categorical(train_labels)\n",
    "y_test=to_categorical(test_labels)"
   ],
   "id": "8f060872543cfc5a",
   "outputs": [],
   "execution_count": 17
  },
  {
   "metadata": {
    "ExecuteTime": {
     "end_time": "2024-05-05T23:40:06.769463Z",
     "start_time": "2024-05-05T23:40:06.752884Z"
    }
   },
   "cell_type": "code",
   "source": "y_train[0]",
   "id": "62708dc409918428",
   "outputs": [
    {
     "data": {
      "text/plain": [
       "array([0., 0., 0., 0., 0., 1., 0., 0., 0., 0.], dtype=float32)"
      ]
     },
     "execution_count": 18,
     "metadata": {},
     "output_type": "execute_result"
    }
   ],
   "execution_count": 18
  },
  {
   "metadata": {
    "ExecuteTime": {
     "end_time": "2024-05-05T23:42:43.775237Z",
     "start_time": "2024-05-05T23:42:28.331660Z"
    }
   },
   "cell_type": "code",
   "source": "model.fit(x_train,y_train,batch_size=128,epochs=5)",
   "id": "ffb425a211e98160",
   "outputs": [
    {
     "name": "stdout",
     "output_type": "stream",
     "text": [
      "Epoch 1/5\n",
      "469/469 [==============================] - 3s 6ms/step - loss: 0.2673 - accuracy: 0.9226\n",
      "Epoch 2/5\n",
      "469/469 [==============================] - 3s 6ms/step - loss: 0.1089 - accuracy: 0.9688\n",
      "Epoch 3/5\n",
      "469/469 [==============================] - 3s 6ms/step - loss: 0.0725 - accuracy: 0.9784\n",
      "Epoch 4/5\n",
      "469/469 [==============================] - 3s 6ms/step - loss: 0.0515 - accuracy: 0.9844\n",
      "Epoch 5/5\n",
      "469/469 [==============================] - 3s 6ms/step - loss: 0.0389 - accuracy: 0.9884\n"
     ]
    },
    {
     "data": {
      "text/plain": [
       "<keras.src.callbacks.History at 0x28c5f225b80>"
      ]
     },
     "execution_count": 19,
     "metadata": {},
     "output_type": "execute_result"
    }
   ],
   "execution_count": 19
  },
  {
   "metadata": {
    "ExecuteTime": {
     "end_time": "2024-05-05T23:43:03.758310Z",
     "start_time": "2024-05-05T23:43:03.187103Z"
    }
   },
   "cell_type": "code",
   "source": "model.evaluate(x_test,y_test)",
   "id": "c5e1479407f2ef30",
   "outputs": [
    {
     "name": "stdout",
     "output_type": "stream",
     "text": [
      "313/313 [==============================] - 1s 1ms/step - loss: 0.0702 - accuracy: 0.9777\n"
     ]
    },
    {
     "data": {
      "text/plain": [
       "[0.07015267014503479, 0.9776999950408936]"
      ]
     },
     "execution_count": 20,
     "metadata": {},
     "output_type": "execute_result"
    }
   ],
   "execution_count": 20
  },
  {
   "metadata": {},
   "cell_type": "code",
   "outputs": [],
   "execution_count": null,
   "source": "",
   "id": "d5befe7a314c0d36"
  }
 ],
 "metadata": {
  "kernelspec": {
   "display_name": "Python 3",
   "language": "python",
   "name": "python3"
  },
  "language_info": {
   "codemirror_mode": {
    "name": "ipython",
    "version": 2
   },
   "file_extension": ".py",
   "mimetype": "text/x-python",
   "name": "python",
   "nbconvert_exporter": "python",
   "pygments_lexer": "ipython2",
   "version": "2.7.6"
  }
 },
 "nbformat": 4,
 "nbformat_minor": 5
}
