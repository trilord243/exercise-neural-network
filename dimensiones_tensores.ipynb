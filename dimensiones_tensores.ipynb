{
 "cells": [
  {
   "cell_type": "code",
   "id": "initial_id",
   "metadata": {
    "collapsed": true,
    "ExecuteTime": {
     "end_time": "2024-05-06T02:07:00.291489Z",
     "start_time": "2024-05-06T02:06:59.578365Z"
    }
   },
   "source": "import numpy as np \n",
   "outputs": [],
   "execution_count": 1
  },
  {
   "metadata": {},
   "cell_type": "markdown",
   "source": "Escalares ",
   "id": "a69715bdd08ac6ab"
  },
  {
   "metadata": {
    "ExecuteTime": {
     "end_time": "2024-05-06T02:08:43.316332Z",
     "start_time": "2024-05-06T02:08:43.293335Z"
    }
   },
   "cell_type": "code",
   "source": [
    "x=np.array(42)\n",
    "print(x.shape)\n",
    "x.ndim"
   ],
   "id": "2c7331c430b6904b",
   "outputs": [
    {
     "name": "stdout",
     "output_type": "stream",
     "text": [
      "()\n"
     ]
    },
    {
     "data": {
      "text/plain": [
       "0"
      ]
     },
     "execution_count": 3,
     "metadata": {},
     "output_type": "execute_result"
    }
   ],
   "execution_count": 3
  },
  {
   "metadata": {},
   "cell_type": "markdown",
   "source": "Vector\n",
   "id": "49ce55860a0437d8"
  },
  {
   "metadata": {
    "ExecuteTime": {
     "end_time": "2024-05-06T02:09:11.382599Z",
     "start_time": "2024-05-06T02:09:11.366601Z"
    }
   },
   "cell_type": "code",
   "source": [
    "x=np.array([1,2,3])\n",
    "print(x.shape)\n",
    "x.ndim"
   ],
   "id": "6b51bdd21dffe1e2",
   "outputs": [
    {
     "name": "stdout",
     "output_type": "stream",
     "text": [
      "(3,)\n"
     ]
    },
    {
     "data": {
      "text/plain": [
       "1"
      ]
     },
     "execution_count": 4,
     "metadata": {},
     "output_type": "execute_result"
    }
   ],
   "execution_count": 4
  },
  {
   "metadata": {},
   "cell_type": "markdown",
   "source": "Matrix\n",
   "id": "c02801a38eeeb1e6"
  },
  {
   "metadata": {
    "ExecuteTime": {
     "end_time": "2024-05-06T02:10:02.131248Z",
     "start_time": "2024-05-06T02:10:02.117249Z"
    }
   },
   "cell_type": "code",
   "source": [
    "x=np.array([[1,2,3],[4,5,6]])\n",
    "print(x.shape)\n",
    "x.ndim"
   ],
   "id": "15cdc95ebe2cf5d9",
   "outputs": [
    {
     "name": "stdout",
     "output_type": "stream",
     "text": [
      "(2, 3)\n"
     ]
    },
    {
     "data": {
      "text/plain": [
       "2"
      ]
     },
     "execution_count": 5,
     "metadata": {},
     "output_type": "execute_result"
    }
   ],
   "execution_count": 5
  },
  {
   "metadata": {},
   "cell_type": "markdown",
   "source": "Tensor",
   "id": "dec99e4e640dbd60"
  },
  {
   "metadata": {
    "ExecuteTime": {
     "end_time": "2024-05-06T02:11:44.202592Z",
     "start_time": "2024-05-06T02:11:44.194592Z"
    }
   },
   "cell_type": "code",
   "source": [
    "x=np.array([[[1,2,3],[4,5,6],[98,8,5]],[[1,2,3],[4,5,6],[98,8,5]]   ])\n",
    "print(x.shape)\n",
    "x.ndim"
   ],
   "id": "6f4965e9c60348f3",
   "outputs": [
    {
     "name": "stdout",
     "output_type": "stream",
     "text": [
      "(2, 3, 3)\n"
     ]
    },
    {
     "data": {
      "text/plain": [
       "3"
      ]
     },
     "execution_count": 7,
     "metadata": {},
     "output_type": "execute_result"
    }
   ],
   "execution_count": 7
  },
  {
   "metadata": {},
   "cell_type": "markdown",
   "source": "Reshape",
   "id": "b8089af338a71605"
  },
  {
   "metadata": {
    "ExecuteTime": {
     "end_time": "2024-05-06T02:14:43.147080Z",
     "start_time": "2024-05-06T02:14:43.132704Z"
    }
   },
   "cell_type": "code",
   "source": [
    "x=np.array([\n",
    "    [0,1],\n",
    "    [5,9],\n",
    "    [1,6],\n",
    "    [5,7],\n",
    "\n",
    "    \n",
    "          \n",
    "          \n",
    "          ]   )\n",
    "x.shape"
   ],
   "id": "6713087e17fad4ce",
   "outputs": [
    {
     "data": {
      "text/plain": [
       "(4, 2)"
      ]
     },
     "execution_count": 9,
     "metadata": {},
     "output_type": "execute_result"
    }
   ],
   "execution_count": 9
  },
  {
   "metadata": {
    "ExecuteTime": {
     "end_time": "2024-05-06T02:14:56.124315Z",
     "start_time": "2024-05-06T02:14:56.110316Z"
    }
   },
   "cell_type": "code",
   "source": "x.reshape(8,1)",
   "id": "847ca1470a2e2484",
   "outputs": [
    {
     "data": {
      "text/plain": [
       "array([[0],\n",
       "       [1],\n",
       "       [5],\n",
       "       [9],\n",
       "       [1],\n",
       "       [6],\n",
       "       [5],\n",
       "       [7]])"
      ]
     },
     "execution_count": 10,
     "metadata": {},
     "output_type": "execute_result"
    }
   ],
   "execution_count": 10
  },
  {
   "metadata": {
    "ExecuteTime": {
     "end_time": "2024-05-06T02:15:39.614595Z",
     "start_time": "2024-05-06T02:15:39.600598Z"
    }
   },
   "cell_type": "code",
   "source": "x.reshape(2,4)",
   "id": "5253aac9522a9680",
   "outputs": [
    {
     "data": {
      "text/plain": [
       "array([[0, 1, 5, 9],\n",
       "       [1, 6, 5, 7]])"
      ]
     },
     "execution_count": 11,
     "metadata": {},
     "output_type": "execute_result"
    }
   ],
   "execution_count": 11
  },
  {
   "metadata": {
    "ExecuteTime": {
     "end_time": "2024-05-06T02:17:16.177840Z",
     "start_time": "2024-05-06T02:17:16.163841Z"
    }
   },
   "cell_type": "code",
   "source": "np.transpose(x)",
   "id": "8babf83015418555",
   "outputs": [
    {
     "data": {
      "text/plain": [
       "array([[0, 5, 1, 5],\n",
       "       [1, 9, 6, 7]])"
      ]
     },
     "execution_count": 12,
     "metadata": {},
     "output_type": "execute_result"
    }
   ],
   "execution_count": 12
  },
  {
   "metadata": {
    "ExecuteTime": {
     "end_time": "2024-05-06T02:17:28.731906Z",
     "start_time": "2024-05-06T02:17:28.716906Z"
    }
   },
   "cell_type": "code",
   "source": "x.T",
   "id": "d65f5618a5ed8c4",
   "outputs": [
    {
     "data": {
      "text/plain": [
       "array([[0, 5, 1, 5],\n",
       "       [1, 9, 6, 7]])"
      ]
     },
     "execution_count": 13,
     "metadata": {},
     "output_type": "execute_result"
    }
   ],
   "execution_count": 13
  },
  {
   "metadata": {},
   "cell_type": "code",
   "outputs": [],
   "execution_count": null,
   "source": "",
   "id": "ec83676d85505590"
  }
 ],
 "metadata": {
  "kernelspec": {
   "display_name": "Python 3",
   "language": "python",
   "name": "python3"
  },
  "language_info": {
   "codemirror_mode": {
    "name": "ipython",
    "version": 2
   },
   "file_extension": ".py",
   "mimetype": "text/x-python",
   "name": "python",
   "nbconvert_exporter": "python",
   "pygments_lexer": "ipython2",
   "version": "2.7.6"
  }
 },
 "nbformat": 4,
 "nbformat_minor": 5
}
